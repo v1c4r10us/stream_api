{
 "cells": [
  {
   "cell_type": "code",
   "execution_count": 2,
   "id": "88978e8c-b39b-4465-a362-4d52572a72a5",
   "metadata": {},
   "outputs": [],
   "source": [
    "import pandas as pd\n",
    "from sklearn.feature_extraction.text import TfidfVectorizer\n",
    "from sklearn.metrics.pairwise import cosine_similarity"
   ]
  },
  {
   "cell_type": "markdown",
   "id": "ab90952c-c56e-47b7-8f19-021ce5a47bd2",
   "metadata": {},
   "source": [
    "## Transformaciones preliminares"
   ]
  },
  {
   "cell_type": "code",
   "execution_count": 3,
   "id": "c72d83c0-05d5-4722-91ed-efdcc62e9b34",
   "metadata": {},
   "outputs": [],
   "source": [
    "#Streaming Datasets\n",
    "df_a=pd.read_csv('amazon_prime_titles.csv')\n",
    "df_d=pd.read_csv('disney_plus_titles.csv')\n",
    "df_h=pd.read_csv('hulu_titles.csv')\n",
    "df_n=pd.read_csv('netflix_titles.csv')\n",
    "\n",
    "df_rate=pd.read_csv('ratings/rating_global.csv') #Mean rate by movieId and year\n",
    "df_rate2=pd.read_csv('ratings/recsys.csv') #Mean rate by movieId"
   ]
  },
  {
   "cell_type": "code",
   "execution_count": 6,
   "id": "5b919b83-4bc8-4306-bfe8-51c7fab334b5",
   "metadata": {},
   "outputs": [],
   "source": [
    "#Transform function: \n",
    "def transform(input_dataframe, idx_char):\n",
    "    df=input_dataframe\n",
    "    df.insert(1,'id',idx_char+df[['show_id']]) #Generating Id\n",
    "    df['rating'].fillna('G', inplace=True) #Replacing NA of rating\n",
    "    df['date_added']=df.date_added.str.strip() ##Fixing netflix problem\n",
    "    df['date_added']=pd.to_datetime(df['date_added'], format='%B %d, %Y') #Formating dates\n",
    "    df[['duration_int','duration_type']]=df.duration.str.split(\" \", expand=True) #Splitting duration\n",
    "    df['type']=df.type.str.lower() #Lowercase for text fields\n",
    "    df['title']=df.title.str.lower()\n",
    "    df['director']=df.director.str.lower()\n",
    "    df['cast']=df['cast'].astype('str') ##Fixing hulu problem\n",
    "    df['cast']=df.cast.str.lower() #Converting to lowercase all fields\n",
    "    df['country']=df.country.str.lower()\n",
    "    df['rating']=df.rating.str.lower()\n",
    "    df['listed_in']=df.listed_in.str.lower()\n",
    "    df['description']=df.description.str.lower()\n",
    "    df['duration_type']=df.duration_type.str.lower()\n",
    "    return df"
   ]
  },
  {
   "cell_type": "code",
   "execution_count": 5,
   "id": "332c75cf-67c6-4aad-b908-12c958f24638",
   "metadata": {},
   "outputs": [],
   "source": [
    "def get_resume_rating(platform):\n",
    "    platforms={'amazon':amazon, 'disney':disney, 'hulu': hulu, 'netflix':netflix} #Load original datasets\n",
    "    dr=df_rate #Load rating_global. Reduction -- 11M > 500K \n",
    "    dr=dr[['movieId', 'year', 'rating']] #Only util fields\n",
    "    dr=dr[dr['movieId'].str.startswith(platform[0])] #Group by 'platform'\n",
    "    dp=platforms[platform] #Original platform for join\n",
    "    dr=dr.set_index('movieId').join(dp[['id', 'type']].set_index('id')) #Adding field type\n",
    "    dr=dr[dr['type']=='movie'] #Returning only movies\n",
    "    return dr"
   ]
  },
  {
   "cell_type": "code",
   "execution_count": 7,
   "id": "7c3a4b5f-a0a0-4dab-81e1-4fc1485c0ab5",
   "metadata": {},
   "outputs": [],
   "source": [
    "#Transformed datasets\n",
    "amazon=transform(df_a,'a')\n",
    "disney=transform(df_d, 'd')\n",
    "hulu=transform(df_h, 'h')\n",
    "netflix=transform(df_n, 'n')\n",
    "\n",
    "rate_a=get_resume_rating('amazon')\n",
    "rate_d=get_resume_rating('disney')\n",
    "rate_h=get_resume_rating('hulu')\n",
    "rate_n=get_resume_rating('netflix')\n",
    "rates={'amazon': rate_a, 'disney': rate_d, 'hulu': rate_h, 'netflix':rate_n}"
   ]
  },
  {
   "cell_type": "code",
   "execution_count": 14,
   "id": "baeeca0d-c7a1-495d-9cf1-a76448a2b92d",
   "metadata": {},
   "outputs": [
    {
     "data": {
      "text/html": [
       "<div>\n",
       "<style scoped>\n",
       "    .dataframe tbody tr th:only-of-type {\n",
       "        vertical-align: middle;\n",
       "    }\n",
       "\n",
       "    .dataframe tbody tr th {\n",
       "        vertical-align: top;\n",
       "    }\n",
       "\n",
       "    .dataframe thead th {\n",
       "        text-align: right;\n",
       "    }\n",
       "</style>\n",
       "<table border=\"1\" class=\"dataframe\">\n",
       "  <thead>\n",
       "    <tr style=\"text-align: right;\">\n",
       "      <th></th>\n",
       "      <th>year</th>\n",
       "      <th>rating</th>\n",
       "      <th>type</th>\n",
       "    </tr>\n",
       "  </thead>\n",
       "  <tbody>\n",
       "    <tr>\n",
       "      <th>ns1</th>\n",
       "      <td>1996</td>\n",
       "      <td>3.666667</td>\n",
       "      <td>movie</td>\n",
       "    </tr>\n",
       "    <tr>\n",
       "      <th>ns1</th>\n",
       "      <td>1997</td>\n",
       "      <td>3.714286</td>\n",
       "      <td>movie</td>\n",
       "    </tr>\n",
       "    <tr>\n",
       "      <th>ns1</th>\n",
       "      <td>1998</td>\n",
       "      <td>3.333333</td>\n",
       "      <td>movie</td>\n",
       "    </tr>\n",
       "    <tr>\n",
       "      <th>ns1</th>\n",
       "      <td>1999</td>\n",
       "      <td>3.590909</td>\n",
       "      <td>movie</td>\n",
       "    </tr>\n",
       "    <tr>\n",
       "      <th>ns1</th>\n",
       "      <td>2000</td>\n",
       "      <td>3.688889</td>\n",
       "      <td>movie</td>\n",
       "    </tr>\n",
       "  </tbody>\n",
       "</table>\n",
       "</div>"
      ],
      "text/plain": [
       "     year    rating   type\n",
       "ns1  1996  3.666667  movie\n",
       "ns1  1997  3.714286  movie\n",
       "ns1  1998  3.333333  movie\n",
       "ns1  1999  3.590909  movie\n",
       "ns1  2000  3.688889  movie"
      ]
     },
     "execution_count": 14,
     "metadata": {},
     "output_type": "execute_result"
    }
   ],
   "source": [
    "rates['netflix'].head(5)"
   ]
  },
  {
   "cell_type": "markdown",
   "id": "5f0b93cf-e53f-4af8-a915-1e62c7de0672",
   "metadata": {},
   "source": [
    "# Sistema de recomendación"
   ]
  },
  {
   "cell_type": "code",
   "execution_count": 15,
   "id": "e7f28fdd-e995-4122-9928-37e955e019fc",
   "metadata": {},
   "outputs": [],
   "source": [
    "#Dataset base \n",
    "def get_base_recsys():    \n",
    "    platforms=pd.concat([amazon, disney, hulu, netflix]) #Union of all platforms\n",
    "    platforms=platforms[['id', 'type', 'title','rating', 'listed_in']] #Extract needed fields\n",
    "    dsc=df_rate2[['movieId', 'rating']] #clean df_rate2\n",
    "    dsc=dsc.rename(columns={'rating':'mean_scored'}) #Rename and get mean_scored\n",
    "    platforms=platforms.set_index('id').join(dsc.set_index('movieId')) #Joining df\n",
    "    platforms['mean_scored']=platforms['mean_scored'].round(2) #Round mean_scored\n",
    "    platforms['mean_scored']=platforms['mean_scored'].values.astype('str') #Convert mean_score as str for added as tag\n",
    "    platforms=platforms.reset_index() #Resetting indexes\n",
    "    titles_wo_duplicates=platforms['title'].drop_duplicates() #Dropping duplicates titles\n",
    "    platforms=platforms.iloc[titles_wo_duplicates.index] #Regenerating platforms\n",
    "    platforms['tags']=platforms['type']+', '+platforms['rating']+', '+platforms['listed_in']+', '+platforms['mean_scored'] #Adding 'tags' field\n",
    "    platforms=platforms[['type', 'title', 'rating', 'listed_in', 'mean_scored', 'tags']].reset_index() #Reset indexes\n",
    "    platforms=platforms[['type', 'title', 'rating', 'listed_in', 'mean_scored', 'tags']] #Df base    \n",
    "    #Matrix of key words + frequency\n",
    "    tfidf=TfidfVectorizer() #Vectorization\n",
    "    tfidf_matrix=tfidf.fit_transform(platforms['tags']) #Matrix    \n",
    "    #Apply cosine similarity\n",
    "    cos_sim=cosine_similarity(tfidf_matrix, tfidf_matrix)\n",
    "    return platforms, cos_sim"
   ]
  },
  {
   "cell_type": "code",
   "execution_count": 16,
   "id": "52075f08-8fed-49ce-9cd3-f00bf678095d",
   "metadata": {},
   "outputs": [],
   "source": [
    "base=get_base_recsys() #Base for recommendation"
   ]
  },
  {
   "cell_type": "code",
   "execution_count": 37,
   "id": "9fa7c09c-ebb6-4816-b2f3-2fd15d8c26bd",
   "metadata": {},
   "outputs": [],
   "source": [
    "def get_recommendation(title, platforms=base[0], cos_sim=base[1]): \n",
    "    indexes=pd.Series(platforms.index, index=platforms['title']) #Serie with 'titles' as index\n",
    "    idx=indexes[title] #Index of title to evaluate\n",
    "    sim_scores=list(enumerate(cos_sim[idx])) #Getting similarity_scores for 'title' and enumerate this\n",
    "    sim_scores=sorted(sim_scores, key=lambda x: x[1], reverse=True) #Sort from max score\n",
    "    sim_scores=sim_scores[1:6] #Slicing top 5\n",
    "    rec_indexes=[i[0] for i in sim_scores] #Getting indexes of slicing\n",
    "    #list(platforms['title'].iloc[rec_indexes])\n",
    "    return platforms['title'].iloc[rec_indexes] #Return top 5 of titles with major similarity"
   ]
  },
  {
   "cell_type": "markdown",
   "id": "1b319f28-2030-457c-849c-d1102fcc8b44",
   "metadata": {},
   "source": [
    "## Test of model"
   ]
  },
  {
   "cell_type": "code",
   "execution_count": 43,
   "id": "e9f0bad2-8bd7-4e7b-aee8-fc03c773421d",
   "metadata": {},
   "outputs": [
    {
     "data": {
      "text/plain": [
       "11013           toy story 3\n",
       "7604                   ogre\n",
       "10787           ratatouille\n",
       "10731    mr. duck steps out\n",
       "7483                go fish\n",
       "Name: title, dtype: object"
      ]
     },
     "execution_count": 43,
     "metadata": {},
     "output_type": "execute_result"
    }
   ],
   "source": [
    "get_recommendation('feast') #Test for aleatory title"
   ]
  },
  {
   "cell_type": "markdown",
   "id": "626609c5-9e74-4558-9138-284971b17a11",
   "metadata": {},
   "source": [
    "### Title base"
   ]
  },
  {
   "cell_type": "code",
   "execution_count": 44,
   "id": "a8102d0d-10cd-4546-82be-48b6549c03ba",
   "metadata": {},
   "outputs": [
    {
     "data": {
      "text/html": [
       "<div>\n",
       "<style scoped>\n",
       "    .dataframe tbody tr th:only-of-type {\n",
       "        vertical-align: middle;\n",
       "    }\n",
       "\n",
       "    .dataframe tbody tr th {\n",
       "        vertical-align: top;\n",
       "    }\n",
       "\n",
       "    .dataframe thead th {\n",
       "        text-align: right;\n",
       "    }\n",
       "</style>\n",
       "<table border=\"1\" class=\"dataframe\">\n",
       "  <thead>\n",
       "    <tr style=\"text-align: right;\">\n",
       "      <th></th>\n",
       "      <th>type</th>\n",
       "      <th>title</th>\n",
       "      <th>rating</th>\n",
       "      <th>listed_in</th>\n",
       "      <th>mean_scored</th>\n",
       "      <th>tags</th>\n",
       "    </tr>\n",
       "  </thead>\n",
       "  <tbody>\n",
       "    <tr>\n",
       "      <th>9671</th>\n",
       "      <td>movie</td>\n",
       "      <td>feast</td>\n",
       "      <td>g</td>\n",
       "      <td>animation, comedy, drama</td>\n",
       "      <td>3.43</td>\n",
       "      <td>movie, g, animation, comedy, drama, 3.43</td>\n",
       "    </tr>\n",
       "  </tbody>\n",
       "</table>\n",
       "</div>"
      ],
      "text/plain": [
       "       type  title rating                 listed_in mean_scored  \\\n",
       "9671  movie  feast      g  animation, comedy, drama        3.43   \n",
       "\n",
       "                                          tags  \n",
       "9671  movie, g, animation, comedy, drama, 3.43  "
      ]
     },
     "execution_count": 44,
     "metadata": {},
     "output_type": "execute_result"
    }
   ],
   "source": [
    "base[0][base[0]['title']=='feast']"
   ]
  },
  {
   "cell_type": "markdown",
   "id": "82f7346b-6831-47b5-910f-4c57aeb767a4",
   "metadata": {},
   "source": [
    "### Recomendations"
   ]
  },
  {
   "cell_type": "code",
   "execution_count": 45,
   "id": "f640bada-bbb6-4648-a501-3839045b71eb",
   "metadata": {},
   "outputs": [
    {
     "data": {
      "text/plain": [
       "type                                              movie\n",
       "title                                       toy story 3\n",
       "rating                                                g\n",
       "listed_in                      animation, comedy, drama\n",
       "mean_scored                                        3.43\n",
       "tags           movie, g, animation, comedy, drama, 3.43\n",
       "Name: 11013, dtype: object"
      ]
     },
     "execution_count": 45,
     "metadata": {},
     "output_type": "execute_result"
    }
   ],
   "source": [
    "base[0].iloc[11013] #1"
   ]
  },
  {
   "cell_type": "code",
   "execution_count": 46,
   "id": "7058121e-a9fa-44be-8335-dd0345705b11",
   "metadata": {},
   "outputs": [
    {
     "data": {
      "text/plain": [
       "type                                movie\n",
       "title                                ogre\n",
       "rating                                 7+\n",
       "listed_in                       animation\n",
       "mean_scored                          3.43\n",
       "tags           movie, 7+, animation, 3.43\n",
       "Name: 7604, dtype: object"
      ]
     },
     "execution_count": 46,
     "metadata": {},
     "output_type": "execute_result"
    }
   ],
   "source": [
    "base[0].iloc[7604] #2"
   ]
  },
  {
   "cell_type": "code",
   "execution_count": 47,
   "id": "9eac26b3-4fed-4156-ad85-ec156d5d9af8",
   "metadata": {},
   "outputs": [
    {
     "data": {
      "text/plain": [
       "type                                               movie\n",
       "title                                        ratatouille\n",
       "rating                                                 g\n",
       "listed_in                      animation, comedy, family\n",
       "mean_scored                                         3.43\n",
       "tags           movie, g, animation, comedy, family, 3.43\n",
       "Name: 10787, dtype: object"
      ]
     },
     "execution_count": 47,
     "metadata": {},
     "output_type": "execute_result"
    }
   ],
   "source": [
    "base[0].iloc[10787] #3"
   ]
  },
  {
   "cell_type": "code",
   "execution_count": 48,
   "id": "d5376245-6835-4848-bd36-22350eec4652",
   "metadata": {},
   "outputs": [
    {
     "data": {
      "text/plain": [
       "type                                                  movie\n",
       "title                                    mr. duck steps out\n",
       "rating                                                 tv-g\n",
       "listed_in                         animation, comedy, family\n",
       "mean_scored                                            3.43\n",
       "tags           movie, tv-g, animation, comedy, family, 3.43\n",
       "Name: 10731, dtype: object"
      ]
     },
     "execution_count": 48,
     "metadata": {},
     "output_type": "execute_result"
    }
   ],
   "source": [
    "base[0].iloc[10731] #4"
   ]
  },
  {
   "cell_type": "code",
   "execution_count": 49,
   "id": "44089369-a65a-41f5-910b-83f979ccbcb2",
   "metadata": {},
   "outputs": [
    {
     "data": {
      "text/plain": [
       "type                                     movie\n",
       "title                                  go fish\n",
       "rating                                     13+\n",
       "listed_in                        comedy, drama\n",
       "mean_scored                               3.43\n",
       "tags           movie, 13+, comedy, drama, 3.43\n",
       "Name: 7483, dtype: object"
      ]
     },
     "execution_count": 49,
     "metadata": {},
     "output_type": "execute_result"
    }
   ],
   "source": [
    "base[0].iloc[7483] #5"
   ]
  },
  {
   "cell_type": "markdown",
   "id": "09b85cb7-82b9-4dd3-a862-586b853f71b1",
   "metadata": {},
   "source": [
    "## Generating recommendations for total movies"
   ]
  },
  {
   "cell_type": "code",
   "execution_count": 28,
   "id": "24b6faf7-0c44-4263-8ff6-c90db6d37999",
   "metadata": {},
   "outputs": [],
   "source": [
    "all_recommendations={i:get_recommendation(i) for i in base[0]['title']} #Dictionary with all recommendations"
   ]
  },
  {
   "cell_type": "markdown",
   "id": "c47e4b29-7137-44ef-beaf-b88b5a5e0048",
   "metadata": {},
   "source": [
    "### Serialize dictionary in .pkl for deploy on server and reduce ram consumption"
   ]
  },
  {
   "cell_type": "code",
   "execution_count": 30,
   "id": "7a697a54-941d-41e8-8de6-b6dda98a71eb",
   "metadata": {},
   "outputs": [],
   "source": [
    "with open('all_recommendations.pkl', 'wb') as f:\n",
    "    pickle.dump(all_recommendations, f) "
   ]
  },
  {
   "cell_type": "code",
   "execution_count": 31,
   "id": "4d661b92-b900-4c50-9538-e02a8f7ffee9",
   "metadata": {},
   "outputs": [],
   "source": [
    "f.close()"
   ]
  }
 ],
 "metadata": {
  "kernelspec": {
   "display_name": "Python 3 (ipykernel)",
   "language": "python",
   "name": "python3"
  },
  "language_info": {
   "codemirror_mode": {
    "name": "ipython",
    "version": 3
   },
   "file_extension": ".py",
   "mimetype": "text/x-python",
   "name": "python",
   "nbconvert_exporter": "python",
   "pygments_lexer": "ipython3",
   "version": "3.9.15"
  }
 },
 "nbformat": 4,
 "nbformat_minor": 5
}
